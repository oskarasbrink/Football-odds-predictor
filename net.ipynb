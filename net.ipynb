{
 "cells": [
  {
   "cell_type": "code",
   "execution_count": null,
   "metadata": {},
   "outputs": [],
   "source": [
    "%store -r concat_df\n",
    "%store -r data_avg\n",
    "%store -r res\n",
    "\n",
    "import numpy as np\n",
    "import pandas as pd\n",
    "from sklearn.model_selection import train_test_split\n",
    "from sklearn.metrics import accuracy_score\n",
    "from sklearn.preprocessing import LabelEncoder\n",
    "from keras.models import Sequential\n",
    "from keras.layers import Dense\n",
    "from keras.utils import np_utils\n",
    "import frameprocessing"
   ]
  },
  {
   "cell_type": "code",
   "execution_count": null,
   "metadata": {},
   "outputs": [],
   "source": [
    "\n",
    "data_avg = data_avg.reset_index()\n",
    "concat_df\n",
    "\n",
    "#concat_df.loc[concat_df['Date'] == \"2022-05-29\"]\n",
    "concat_df[\"unique string\"] = concat_df.apply(lambda x: str(x[\"Date\"]) + str(x[\"Home_team\"]),axis=1)\n",
    "concat_df = concat_df.drop_duplicates(subset = [\"unique string\"]).drop([\"unique string\"],axis=1)\n",
    "\n",
    "\n",
    "\n",
    "#best_df = pd.DataFrame([])\n",
    "#best_df.columns = concat_df.columns\n",
    "#for row in concat_df:\n",
    "#    if row[\"unique_string\"] in \n",
    "\n"
   ]
  },
  {
   "cell_type": "code",
   "execution_count": null,
   "metadata": {},
   "outputs": [],
   "source": [
    "concat_df.loc[concat_df['Date'] == \"2021-12-04\"]\n",
    "\n",
    "\n",
    "hot_data_avg = pd.get_dummies(data_avg[\"Team\"])\n",
    "\n",
    "avg_data_joined = data_avg.join(hot_data_avg)\n",
    "\n",
    "data_avg_opponent = data_avg.copy(deep=True)\n",
    "data_avg_opponent[\"Team_jord\"] = frameprocessing.getCurrentTeamRows(data_avg_opponent)\n",
    "hot_data_avg_opponent = pd.get_dummies(data_avg_opponent[\"Team_jord\"])\n",
    "\n",
    "avg_data_joined_opponent = data_avg_opponent.join(hot_data_avg_opponent)\n",
    "avg_data_joined_opponent.drop([\"Team_jord\"],axis=1,inplace=True)\n",
    "avg_data_joined_opponent"
   ]
  },
  {
   "cell_type": "code",
   "execution_count": null,
   "metadata": {},
   "outputs": [],
   "source": [
    "def getCurrentTeamRows(df):\n",
    "    temp = ['current_team '] * len(df['Team'])\n",
    "    names = df['Team']\n",
    "\n",
    "    current_columns = [y+x for x,y in zip(names,temp)]\n",
    "    return current_columns\n",
    "\n",
    "\n",
    "\n"
   ]
  },
  {
   "cell_type": "code",
   "execution_count": null,
   "metadata": {},
   "outputs": [],
   "source": [
    "def x_transform(df, avg_df):\n",
    "    None\n"
   ]
  },
  {
   "cell_type": "code",
   "execution_count": null,
   "metadata": {},
   "outputs": [],
   "source": [
    "concat_df = concat_df.loc[concat_df['Year']==\"2021\"]\n",
    "concat_df.drop([\"Year\",\"Result\"],axis=1,inplace=True)\n",
    "concat_df = frameprocessing.one_hot_etc(concat_df)\n",
    "X = concat_df.drop(['result_label'], axis=1)\n",
    "\n",
    "y = concat_df['result_label']\n",
    "#X = np.asarray(X).astype('float32')\n",
    "\n",
    "X_train, X_test, y_train, y_test = train_test_split(X, y, random_state=42)\n",
    "\n",
    "#vi vill att X_test ska ha hemmalag och datum\n",
    "X_avg = frameprocessing.x_test_transform(X_test['Team'],X_test['opponent Team'],avg_df = avg_data_joined,opp_avg_df = avg_data_joined_opponent,home = X_test)\n",
    "#X_test\n",
    "#X_avg\n",
    "#X_avg= frameprocessing.one_hot_etc(X_avg)\n",
    "#X_test\n",
    "X_test.drop([\"opponent Team\",\"Team\"],axis=1,inplace=True)\n",
    "X_avg.drop([\"opponent Team\",\"Team\"],axis=1,inplace=True)\n",
    "X_train.drop([\"opponent Team\",\"Team\"],axis=1,inplace=True)\n",
    "#concat_df\n"
   ]
  },
  {
   "cell_type": "code",
   "execution_count": null,
   "metadata": {},
   "outputs": [],
   "source": [
    "X_testmannen = X_test[['Date','Home TEAM NAME']]\n",
    "#X_train = frameprocessing.one_hot_etc(X_train)\n",
    "#X_test = frameprocessing.one_hot_etc(X_test)\n",
    "#X_test2 = X_test.copy(deep=True)"
   ]
  },
  {
   "cell_type": "code",
   "execution_count": null,
   "metadata": {},
   "outputs": [],
   "source": [
    "encoder = LabelEncoder()\n",
    "\n",
    "encoder.fit(y)\n",
    "encoded_y_tjark = encoder.transform(y)\n",
    "dummy = np_utils.to_categorical(encoded_y_tjark)\n",
    "\n",
    "encoder.fit(y_train)\n",
    "encoded_Y = encoder.transform(y_train)\n",
    "dummy_y = np_utils.to_categorical(encoded_Y)\n",
    "\n",
    "encoder.fit(y_test)\n",
    "encoded_Y_test = encoder.transform(y_test)\n",
    "dummy_y_test = np_utils.to_categorical(encoded_Y_test)\n",
    "\n",
    "\n",
    "X_train = X_train.drop(['Home TEAM NAME',\"Home_team\",\"opponent Home_team\",\"opponent Result\",\"Date\"],axis=1)\n",
    "X_test = X_test.drop(['Home TEAM NAME',\"Home_team\",\"opponent Home_team\",\"opponent Result\",\"Date\"],axis=1)\n",
    "pd.set_option(\"display.max_columns\", None)\n",
    "#X_avg = X_avg.drop(['Home TEAM NAME',\"Home_team\",\"opponent Home_team\",\"opponent Result\",\"Date\"],axis=1)\n",
    "\n"
   ]
  },
  {
   "cell_type": "code",
   "execution_count": null,
   "metadata": {},
   "outputs": [],
   "source": [
    "X_train"
   ]
  },
  {
   "cell_type": "code",
   "execution_count": null,
   "metadata": {},
   "outputs": [],
   "source": [
    "X_avg"
   ]
  },
  {
   "cell_type": "code",
   "execution_count": null,
   "metadata": {},
   "outputs": [],
   "source": [
    "X_train = np.asarray(X_train).astype('float32')\n",
    "X_test = np.asarray(X_test).astype('float32')\n",
    "X_avg = np.asarray(X_avg).astype('float32')\n",
    "model = Sequential()\n",
    "model.add(Dense(len(X_train[0]), input_dim = len(X_train[0]), activation='relu'))\n",
    "#model.add(Dense(64, input_dim=len(X_test.drop(['index'],axis = 1).columns), activation='relu'))\n",
    "model.add(Dense(64, activation='relu'))\n",
    "model.add(Dense(3, activation='softmax'))\n",
    "\n",
    "model.compile(loss='categorical_crossentropy', optimizer='adam', metrics=['accuracy'])\n",
    "model.fit(X_train, dummy_y, epochs=100, batch_size=100)"
   ]
  },
  {
   "cell_type": "code",
   "execution_count": null,
   "metadata": {},
   "outputs": [],
   "source": [
    "#y_pred = model.predict(X_test2.drop(['index'],axis=1))\n",
    "\n",
    "y_pred = model.predict(X_avg)#2.drop(['index'],axis=1))\n",
    "print(np.around(y_pred, 2))\n",
    "#-train_test_split\n",
    "#-model predict\n",
    "#-jämför med true värden från res\n"
   ]
  },
  {
   "cell_type": "code",
   "execution_count": null,
   "metadata": {},
   "outputs": [],
   "source": [
    "X_testmannen[\"Date\"] =  X_testmannen['Date'].apply(lambda x: x.replace(\"-\",\"/\"))\n",
    "X_testmannen[\"Date\"] = X_testmannen[\"Date\"].apply(lambda x: frameprocessing.dateSwitcher(x))\n",
    "print(X_testmannen.shape[0])\n",
    "#X_testmannen\n",
    "X_testmannen[\"Home TEAM NAME\"] = X_testmannen[\"Home TEAM NAME\"].apply(lambda x: frameprocessing.transformTeam(x))\n",
    "test_df = X_testmannen.merge(res, how = \"inner\",left_on = ['Date',\"Home TEAM NAME\"],right_on=['Date','Home_team'])\n",
    "test_df\n",
    "\n",
    "\n",
    "y_true = test_df[[\"AvgH\",\"AvgD\",\"AvgA\"]]\n",
    "y_true = np.asarray(y_true).astype('float32')\n",
    "\n",
    "\n"
   ]
  },
  {
   "cell_type": "code",
   "execution_count": null,
   "metadata": {},
   "outputs": [],
   "source": [
    "y_pred"
   ]
  },
  {
   "cell_type": "code",
   "execution_count": null,
   "metadata": {},
   "outputs": [],
   "source": []
  }
 ],
 "metadata": {
  "kernelspec": {
   "display_name": "Python 3.7.0 64-bit ('3.7.0')",
   "language": "python",
   "name": "python3"
  },
  "language_info": {
   "codemirror_mode": {
    "name": "ipython",
    "version": 3
   },
   "file_extension": ".py",
   "mimetype": "text/x-python",
   "name": "python",
   "nbconvert_exporter": "python",
   "pygments_lexer": "ipython3",
   "version": "3.7.0"
  },
  "vscode": {
   "interpreter": {
    "hash": "f6b5459d73030a972bd9a8363d7a66f1f812d610c5c6256623bf43205c623c80"
   }
  }
 },
 "nbformat": 4,
 "nbformat_minor": 2
}

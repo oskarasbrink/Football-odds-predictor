{
 "cells": [
  {
   "cell_type": "code",
   "execution_count": null,
   "id": "30bd1cd8",
   "metadata": {},
   "outputs": [],
   "source": [
    "import pandas as pd\n",
    "import os\n",
    "import frameprocessing\n",
    "import numpy as np"
   ]
  },
  {
   "cell_type": "code",
   "execution_count": null,
   "id": "b174046d",
   "metadata": {},
   "outputs": [],
   "source": [
    "# data\n",
    "\n",
    "import frameprocessing\n",
    "path_of_the_directory= './excel/'\n",
    "\n",
    "#data = frameprocessing.load_data(path_of_the_directory)\n",
    "\n",
    "data = pd.DataFrame()\n",
    "for filename in os.listdir(path_of_the_directory):\n",
    "    f = os.path.join(path_of_the_directory,filename)\n",
    "    if os.path.isfile(f):\n",
    "        if filename != '.DS_Store':\n",
    "            temp = pd.read_excel(f, keep_default_na=False)\n",
    "            temp = temp[2::2]\n",
    "            print(len(temp))\n",
    "            print(len(data))#\n",
    "            data = pd.concat([data, temp])\n",
    "\n",
    "\n",
    "data['Home_team'] = data.apply(lambda x: frameprocessing.getHomeTeam(x['Match']), axis=1)\n",
    "data['Result'] = data.apply(lambda x: frameprocessing.getResult(x['Match']), axis=1)\n",
    "#data\n"
   ]
  },
  {
   "cell_type": "code",
   "execution_count": null,
   "id": "9d2846a0",
   "metadata": {},
   "outputs": [],
   "source": [
    "date_mannen = data[['Date',\"Home_team\",\"Result\",'Competition']]\n",
    "date_mannen['Date'] = date_mannen['Date'].apply(lambda x: x.replace(\"-\",\"/\"))\n",
    "date_mannen = date_mannen.loc[date_mannen[\"Competition\"] == 'Sweden. Allsvenskan']\n",
    "print(date_mannen.shape[0])\n",
    "date_mannen['Home_team'] = date_mannen['Home_team'].apply(lambda x: frameprocessing.transformTeam(x))\n",
    "#pd.set_option(\"display.max_rows\", None)\n",
    "date_mannen = date_mannen.reset_index(drop = True)\n",
    "date_mannen['Year'] = date_mannen['Date'].apply(lambda x: x[:4])\n",
    "#date_mannen = date_mannen.loc[date_mannen[\"Year\"] == \"2021\"]\n",
    "date_mannen.drop([\"Year\"],axis=1,inplace=True)"
   ]
  },
  {
   "cell_type": "code",
   "execution_count": null,
   "id": "6bd20f55",
   "metadata": {},
   "outputs": [],
   "source": [
    "df = pd.read_csv(\"SWE.csv\")\n",
    "#seasonData = df.loc[df[\"Season\"] == 2021]\n",
    "seasonData = df.copy(deep=True)\n",
    "date_mannen['Date'] = date_mannen['Date'].apply(lambda x: frameprocessing.dateSwitcher(x))\n",
    "#res = df_a.merge(df_b, how='inner', left_on=['A', 'B'], right_on=['A', 'B_new'])\n",
    "date_mannen = date_mannen.drop_duplicates()\n",
    "res = date_mannen.merge(seasonData, how = \"inner\",left_on = ['Date','Home_team'],right_on=['Date','Home'])\n",
    "res = res[[\"Date\",\"Home_team\",\"AvgH\",\"AvgD\",\"AvgA\"]]\n",
    "res"
   ]
  },
  {
   "cell_type": "code",
   "execution_count": null,
   "id": "3e100205",
   "metadata": {},
   "outputs": [],
   "source": [
    "#concat_df = concat_df.drop(['Date', 'Scheme', 'opponent Scheme'],axis = 1)\n",
    "data = data.loc[data[\"Competition\"] == \"Sweden. Allsvenskan\"]\n",
    "concat_df,data_avg = frameprocessing.process_jord(data)\n",
    "concat_df\n",
    "#data\n"
   ]
  },
  {
   "cell_type": "code",
   "execution_count": null,
   "id": "4d3cba38",
   "metadata": {},
   "outputs": [],
   "source": [
    "%store res\n",
    "%store concat_df\n",
    "%store data_avg\n",
    "\n",
    "\n",
    "\n"
   ]
  }
 ],
 "metadata": {
  "kernelspec": {
   "display_name": "Python 3.7.0 64-bit ('3.7.0')",
   "language": "python",
   "name": "python3"
  },
  "language_info": {
   "codemirror_mode": {
    "name": "ipython",
    "version": 3
   },
   "file_extension": ".py",
   "mimetype": "text/x-python",
   "name": "python",
   "nbconvert_exporter": "python",
   "pygments_lexer": "ipython3",
   "version": "3.7.0"
  },
  "vscode": {
   "interpreter": {
    "hash": "f6b5459d73030a972bd9a8363d7a66f1f812d610c5c6256623bf43205c623c80"
   }
  }
 },
 "nbformat": 4,
 "nbformat_minor": 5
}

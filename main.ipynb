{
 "cells": [
  {
   "cell_type": "code",
   "execution_count": null,
   "metadata": {},
   "outputs": [],
   "source": [
    "import pandas as pd\n",
    "import os\n",
    "import frameprocessing\n",
    "import numpy as np\n",
    "\n",
    "from sklearn.model_selection import train_test_split\n",
    "from sklearn.metrics import accuracy_score\n",
    "from sklearn.preprocessing import LabelEncoder\n",
    "from keras.models import Sequential\n",
    "from keras.layers import Dense\n",
    "from keras.utils import np_utils\n",
    "\n",
    "pd.set_option(\"display.max_columns\", None)"
   ]
  },
  {
   "cell_type": "code",
   "execution_count": null,
   "metadata": {},
   "outputs": [],
   "source": [
    "path_of_the_directory= './excel/'\n",
    "data = pd.DataFrame()\n",
    "for filename in os.listdir(path_of_the_directory):\n",
    "    f = os.path.join(path_of_the_directory,filename)\n",
    "    if os.path.isfile(f):\n",
    "        if filename != '.DS_Store':\n",
    "            temp = pd.read_excel(f, keep_default_na=False)\n",
    "            temp = temp[2:]\n",
    "            data = pd.concat([data, temp])\n",
    "\n",
    "data\n",
    "\n",
    "#BIG CHANGES:\n",
    "#REMOVE TEAM ALL TOGETHER\n",
    "#ONLY DO HOME/AWAY"
   ]
  },
  {
   "cell_type": "code",
   "execution_count": null,
   "metadata": {},
   "outputs": [],
   "source": [
    "\n",
    "#data = data.iloc[:,0:8]\n",
    "#df_new = df.iloc[:, 0:3]\n",
    "#filtrera allsvenskan \n",
    "data = data.loc[data[\"Competition\"]==\"Sweden. Allsvenskan\"]\n",
    "\n",
    "data['Home'] = data.apply(lambda x: frameprocessing.getHomeTeam(x['Match']), axis=1)\n",
    "data['Away'] = data.apply(lambda x: frameprocessing.getAwayTeam(x['Match']), axis=1)\n",
    "data[\"Result\"] = data.apply(lambda x: frameprocessing.getResult(x['Match']), axis=1)\n",
    "data[\"Date\"] = data['Date'].apply(lambda x: x.replace(\"-\",\"/\")).apply(lambda x: frameprocessing.dateSwitcher(x))\n",
    "\n",
    "home = data.pop(\"Home\")\n",
    "away = data.pop(\"Away\")\n",
    "result = data.pop(\"Result\")\n",
    "data.insert(1, \"Home\", home)\n",
    "data.insert(2,\"Away\", away)\n",
    "data.insert(3,\"Result\",result)\n",
    "\n",
    "#drop onödigt(scheme,duration,competition, match)\n",
    "data.drop([\"Match\"],axis=1, inplace=True)\n",
    "data.drop([\"Scheme\",\"Competition\",\"Duration\"],axis=1,inplace=True)\n",
    "\n",
    "data.reset_index(inplace=True, drop=True)\n",
    "\n",
    "team_1,team_2 = frameprocessing.splitData(data)\n",
    "\n",
    "team_2.drop([\"Date\",\"Home\"],axis=1,inplace=True)\n",
    "team_2.columns = frameprocessing.get_away_columns(team_2)\n",
    "\n",
    "team_1.reset_index(inplace=True, drop=True)\n",
    "team_2.reset_index(inplace=True, drop=True)\n",
    "concat_df = pd.concat([team_1,team_2],axis=\"columns\")\n",
    "\n",
    "concat_df = concat_df.loc[concat_df[\"Team\"] != \"Östersunds FK\"]\n",
    "concat_df = concat_df.loc[concat_df[\"Team\"] != \"Örebro\"]\n",
    "concat_df = concat_df.loc[concat_df[\"Team\"] != \"Falkenberg\"]\n",
    "concat_df = concat_df.loc[concat_df[\"away Team\"] != \"Östersunds FK\"]\n",
    "concat_df = concat_df.loc[concat_df[\"away Team\"] != \"Örebro\"]\n",
    "concat_df = concat_df.loc[concat_df[\"away Team\"] != \"Falkenberg\"]\n",
    "\n",
    "#gör av med duplicates\n",
    "#concat_df[\"unique_string\"] = concat_df.apply(lambda x: str(x[\"Date\"]) + str(x[\"Home\"]),axis=1)\n",
    "#concat_df = concat_df.drop_duplicates(subset = [\"unique_string\"]).drop([\"unique_string\"],axis=1)\n",
    "\n",
    "#spara home \n",
    "concat_df\n"
   ]
  },
  {
   "cell_type": "code",
   "execution_count": null,
   "metadata": {},
   "outputs": [],
   "source": [
    "data_avg = data.drop(['Date','Home'], axis=1).groupby('Team').mean()\n",
    "data_avg = data_avg.reset_index()\n",
    "data_avg"
   ]
  },
  {
   "cell_type": "code",
   "execution_count": null,
   "metadata": {},
   "outputs": [],
   "source": [
    "concat_df[\"Result\"] = concat_df.apply(lambda x: 1 if x[\"Goals\"] > x[\"away Goals\"] else 0 if x[\"Goals\"] == x[\"away Goals\"] else 2,axis=1)\n",
    "concat_df = frameprocessing.one_hot(concat_df)\n",
    "concat_df.reset_index(inplace=True,drop=True)\n",
    "concat_df"
   ]
  },
  {
   "cell_type": "markdown",
   "metadata": {},
   "source": [
    "# transform dataframe to average"
   ]
  },
  {
   "cell_type": "code",
   "execution_count": null,
   "metadata": {},
   "outputs": [],
   "source": [
    "\n",
    "asd = frameprocessing.matches_to_dataframe(concat_df, data_avg)\n",
    "asd"
   ]
  },
  {
   "cell_type": "code",
   "execution_count": null,
   "metadata": {},
   "outputs": [],
   "source": [
    "X = asd.drop([\"Result\"], axis=1)\n",
    "y = asd[\"Result\"]\n",
    "\n",
    "X_train, X_test, y_train, y_test = train_test_split(X, y, random_state=42)\n",
    "\n",
    "X_test_copy = X_test.copy(deep=True)\n",
    "\n",
    "X_test"
   ]
  },
  {
   "cell_type": "code",
   "execution_count": null,
   "metadata": {},
   "outputs": [],
   "source": [
    "encoder = LabelEncoder()\n",
    "\n",
    "encoder.fit(y)\n",
    "encoded_y_tjark = encoder.transform(y)\n",
    "dummy = np_utils.to_categorical(encoded_y_tjark)\n",
    "\n",
    "encoder.fit(y_train)\n",
    "encoded_Y = encoder.transform(y_train)\n",
    "dummy_y = np_utils.to_categorical(encoded_Y)\n",
    "\n",
    "encoder.fit(y_test)\n",
    "encoded_Y_test = encoder.transform(y_test)\n",
    "dummy_y_test = np_utils.to_categorical(encoded_Y_test)"
   ]
  },
  {
   "cell_type": "code",
   "execution_count": null,
   "metadata": {},
   "outputs": [],
   "source": [
    "X_train.drop([\"Date\", \"Team\", \"away Team\"], inplace=True, axis=1)\n",
    "X_test.drop([\"Date\", \"Team\", \"away Team\"], inplace=True, axis=1)\n",
    "\n",
    "X_train = np.asarray(X_train).astype('float32')\n",
    "X_test = np.asarray(X_test).astype('float32')\n",
    "\n",
    "model = Sequential()\n",
    "model.add(Dense(len(X_train[0]), input_dim = len(X_train[0]), activation='relu'))\n",
    "model.add(Dense(64, activation='relu'))\n",
    "model.add(Dense(3, activation='softmax'))\n",
    "\n",
    "model.compile(loss='categorical_crossentropy', optimizer='adam', metrics=['accuracy'])\n",
    "model.fit(X_train, dummy_y, epochs=100, batch_size=100)"
   ]
  },
  {
   "cell_type": "code",
   "execution_count": null,
   "metadata": {},
   "outputs": [],
   "source": [
    "y_pred = model.predict(X_test)\n",
    "\n",
    "res = pd.DataFrame(y_pred, columns=[\"Draw %\", \"Win %\", \"Loss %\"])\n",
    "X_test_copy.reset_index(inplace=True,drop=True)\n",
    "res = pd.concat([res, X_test_copy[[\"Date\", \"Team\", \"away Team\", \"Home\"]]], axis=\"columns\")\n",
    "odds = pd.read_csv(\"SWE.csv\")\n",
    "odds = odds[[\"Date\", \"Home\",\"AvgH\", \"AvgD\", \"AvgA\"]]\n",
    "\n",
    "#Modify name\n",
    "res[\"Home\"] = res.apply(lambda x: frameprocessing.transformTeam(x[\"Team\"]) if x[\"Home\"] == 1 else frameprocessing.transformTeam(x[\"away Team\"]), axis=1)\n",
    "\n",
    "res = res.merge(odds, how= \"inner\", left_on=[\"Date\", \"Home\"],right_on=[\"Date\", \"Home\"])\n",
    "\n",
    "date = res.pop(\"Date\")\n",
    "team = res.pop(\"Team\")\n",
    "oppos = res.pop(\"away Team\")\n",
    "home = res.pop(\"Home\")\n",
    "\n",
    "res.insert(0, \"Date\", date)\n",
    "res.insert(1, \"Team\", team)\n",
    "res.insert(2, \"away Team\", oppos)\n",
    "res.insert(3, \"Home\", home)\n",
    "\n",
    "res[\"AvgH %\"] = np.around(100/res[\"AvgH\"],2)\n",
    "res[\"AvgD %\"] = np.around(100/res[\"AvgD\"],2)\n",
    "res[\"AvgA %\"] = np.around(100/res[\"AvgA\"],2)\n",
    "\n",
    "res[\"Draw %\"] = np.around(res[\"Draw %\"] * 100,2)\n",
    "res[\"Win %\"] = np.around(res[\"Win %\"] * 100,2)\n",
    "res[\"Loss %\"] = res[\"Loss %\"].round(2)*100\n",
    "\n",
    "res = res.round(2)\n",
    "res\n",
    "\n",
    "# we are fuccccccccccccccccccked ... avgH => is odds for home,\n",
    "\n",
    "# lambda funktion kanske kan ändra så att våra predictions passar in på oddsen\n",
    "# eller tvärtom\n",
    "\n",
    "# our odds are for \"Team\" win"
   ]
  },
  {
   "cell_type": "code",
   "execution_count": null,
   "metadata": {},
   "outputs": [],
   "source": [
    "#david har koden"
   ]
  }
 ],
 "metadata": {
  "kernelspec": {
   "display_name": "Python 3.7.0 64-bit ('3.7.0')",
   "language": "python",
   "name": "python3"
  },
  "language_info": {
   "codemirror_mode": {
    "name": "ipython",
    "version": 3
   },
   "file_extension": ".py",
   "mimetype": "text/x-python",
   "name": "python",
   "nbconvert_exporter": "python",
   "pygments_lexer": "ipython3",
   "version": "3.7.0"
  },
  "orig_nbformat": 4,
  "vscode": {
   "interpreter": {
    "hash": "f6b5459d73030a972bd9a8363d7a66f1f812d610c5c6256623bf43205c623c80"
   }
  }
 },
 "nbformat": 4,
 "nbformat_minor": 2
}
